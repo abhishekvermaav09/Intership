{
 "cells": [
  {
   "cell_type": "code",
   "execution_count": 1,
   "id": "941bcb55",
   "metadata": {},
   "outputs": [
    {
     "name": "stdout",
     "output_type": "stream",
     "text": [
      "Python Exercises:PHP exercises\n"
     ]
    }
   ],
   "source": [
    "#question1\n",
    "import re\n",
    "Text='Python Exercises,PHP exercises'\n",
    "print(re.sub(\"[,.]\",\":\",Text))"
   ]
  },
  {
   "cell_type": "code",
   "execution_count": 6,
   "id": "aa0c2ed2",
   "metadata": {},
   "outputs": [
    {
     "name": "stdout",
     "output_type": "stream",
     "text": [
      "       SUMMARY\n",
      "0   helloworld\n",
      "1    XXXXXtest\n",
      "2  fourfivesix\n"
     ]
    }
   ],
   "source": [
    "#question2\n",
    "import pandas as pd\n",
    "data={'SUMMARY':['hello,world!','XXXXX test','123four,five:;six...']}\n",
    "df=pd.DataFrame(data)\n",
    "df['SUMMARY']=df['SUMMARY'].str.replace('[^a-zA-Z/s]','',regex= True)\n",
    "print (df)"
   ]
  },
  {
   "cell_type": "code",
   "execution_count": 8,
   "id": "98296d4d",
   "metadata": {},
   "outputs": [],
   "source": [
    "#question3\n",
    "import re\n",
    "def find_long_words(string):\n",
    "    pattern = re.compile(r'/b/w{4,}/b')\n",
    "    long_words = pattern.findall (string)\n",
    "    return long_words"
   ]
  },
  {
   "cell_type": "code",
   "execution_count": 92,
   "id": "a14f4082",
   "metadata": {},
   "outputs": [
    {
     "name": "stdout",
     "output_type": "stream",
     "text": [
      "[]\n"
     ]
    }
   ],
   "source": [
    "#question4\n",
    "import re\n",
    "def find_words(string):\n",
    "    pattern = re.compile(r'/b/w{3,5}/b')\n",
    "    matches = pattern.findall(string)\n",
    "    return matches\n",
    "string= \"Hello world are so good \"\n",
    "result = find_words(string)\n",
    "print(result)"
   ]
  },
  {
   "cell_type": "code",
   "execution_count": 90,
   "id": "cb8ce3b7",
   "metadata": {},
   "outputs": [
    {
     "name": "stdout",
     "output_type": "stream",
     "text": [
      "['example (.com)', 'hr@fliprobo (.com)', 'github (.com)', 'Hello (Data Science World)', 'Data (Scientist)']\n"
     ]
    }
   ],
   "source": [
    "#question5\n",
    "import re\n",
    "\n",
    "def remove_parentheses(strings):\n",
    "  pattern = re.compile(r\"\\(\\)\")\n",
    "  modified_strings = []\n",
    "  for string in strings:\n",
    "    modified_string = re.sub(pattern, \"\", string)\n",
    "    modified_strings.append(modified_string)\n",
    "  return modified_strings\n",
    "\n",
    "sample_text = [\"example (.com)\", \"hr@fliprobo (.com)\", \"github (.com)\", \"Hello (Data Science World)\", \"Data (Scientist)\"]\n",
    "result = remove_parentheses(sample_text)\n",
    "print(result)"
   ]
  },
  {
   "cell_type": "code",
   "execution_count": null,
   "id": "a46aa8c1",
   "metadata": {},
   "outputs": [],
   "source": []
  },
  {
   "cell_type": "code",
   "execution_count": 66,
   "id": "e497bb96",
   "metadata": {},
   "outputs": [
    {
     "name": "stdout",
     "output_type": "stream",
     "text": [
      "['Importance', 'Of', 'Regular', 'Expression', 'In', 'Python']\n"
     ]
    }
   ],
   "source": [
    "#question7\n",
    "text = 'ImportanceOfRegularExpressionInPython'\n",
    "import re\n",
    "print(re.findall('[A-Z][^A-Z]*',text))"
   ]
  },
  {
   "cell_type": "code",
   "execution_count": 14,
   "id": "2704ef15",
   "metadata": {},
   "outputs": [
    {
     "name": "stdout",
     "output_type": "stream",
     "text": [
      "RegularExpression 1IsAn2ImportantTopic3InPython\n",
      "RegularExpression 1IsAn 2ImportantTopic3InPython\n",
      "RegularExpression 1IsAn 2ImportantTopic 3InPython\n"
     ]
    }
   ],
   "source": [
    "#question8\n",
    "test_str = 'RegularExpression1IsAn2ImportantTopic3InPython'\n",
    "num=\"0123456789\"\n",
    "for i in test_str:\n",
    "    if i in num:\n",
    "        test_str=test_str.replace(i,\" \"+i+\"\")\n",
    "        res=test_str\n",
    "        print(str(res))"
   ]
  },
  {
   "cell_type": "code",
   "execution_count": 13,
   "id": "9940621b",
   "metadata": {},
   "outputs": [
    {
     "name": "stdout",
     "output_type": "stream",
     "text": [
      "RegularExpression 1 IsAn2ImportantTopic3InPython\n",
      "RegularExpression 1 IsAn 2 ImportantTopic3InPython\n",
      "RegularExpression 1 IsAn 2 ImportantTopic 3 InPython\n"
     ]
    }
   ],
   "source": [
    "#question9\n",
    "test_str = 'RegularExpression1IsAn2ImportantTopic3InPython'\n",
    "num=\"0123456789\"\n",
    "for i in test_str:\n",
    "    if i in num:\n",
    "        test_str=test_str.replace(i,\" \"+i+\" \")\n",
    "        res=test_str\n",
    "        print(str(res))"
   ]
  },
  {
   "cell_type": "code",
   "execution_count": null,
   "id": "ebcba7f9",
   "metadata": {},
   "outputs": [],
   "source": []
  },
  {
   "cell_type": "code",
   "execution_count": 33,
   "id": "b7420df0",
   "metadata": {},
   "outputs": [
    {
     "name": "stdout",
     "output_type": "stream",
     "text": [
      " not matched!\n",
      "found a match!\n"
     ]
    }
   ],
   "source": [
    "#question11\n",
    "import re\n",
    "def text_match(text):\n",
    "         patterns = '^[a-zA-Z0-9_]*$'\n",
    "         if re.search(patterns, text):\n",
    "                return'found a match!'\n",
    "         else:\n",
    "                return' not matched!'\n",
    "print(text_match(\"Regular expression assignment\"))\n",
    "print(text_match(\"Regular_expression_assignment_12\"))"
   ]
  },
  {
   "cell_type": "code",
   "execution_count": 34,
   "id": "86bd95ac",
   "metadata": {},
   "outputs": [
    {
     "name": "stdout",
     "output_type": "stream",
     "text": [
      "True\n",
      "False\n"
     ]
    }
   ],
   "source": [
    "#question12\n",
    "import re \n",
    "def match_num(string):\n",
    "    text = re.compile(r\"^5\")\n",
    "    if text.match(string):\n",
    "        return True\n",
    "    else:\n",
    "        return False\n",
    "print(match_num('5-2345861'))\n",
    "print(match_num('6-2345861'))\n",
    "    "
   ]
  },
  {
   "cell_type": "code",
   "execution_count": 35,
   "id": "a5c3974e",
   "metadata": {},
   "outputs": [
    {
     "name": "stdout",
     "output_type": "stream",
     "text": [
      "216.08.098.123\n"
     ]
    }
   ],
   "source": [
    "#question13\n",
    "import re\n",
    "ip = \"216.08.098.123\"\n",
    "string = re.sub('/.[0]*',\".\",ip)\n",
    "print(string)"
   ]
  },
  {
   "cell_type": "code",
   "execution_count": null,
   "id": "1ba6f1e7",
   "metadata": {},
   "outputs": [],
   "source": []
  },
  {
   "cell_type": "code",
   "execution_count": 36,
   "id": "2992fc1f",
   "metadata": {},
   "outputs": [
    {
     "name": "stdout",
     "output_type": "stream",
     "text": [
      "searching for \"fox\" in \"the quick brown fox jumps over the lazy dog.\" ->\n",
      "Matched!\n",
      "searching for \"dog\" in \"the quick brown fox jumps over the lazy dog.\" ->\n",
      "Matched!\n",
      "searching for \"horse\" in \"the quick brown fox jumps over the lazy dog.\" ->\n",
      "Not Matched!\n"
     ]
    }
   ],
   "source": [
    "#question15\n",
    "import re\n",
    "patterns = [ 'fox', 'dog', 'horse']\n",
    "text = 'the quick brown fox jumps over the lazy dog.'\n",
    "for pattern in patterns:\n",
    "    print('searching for \"%s\" in \"%s\" ->' % (pattern, text),)\n",
    "    if re.search(pattern, text):\n",
    "        print('Matched!')\n",
    "    else:\n",
    "        print('Not Matched!')"
   ]
  },
  {
   "cell_type": "code",
   "execution_count": 93,
   "id": "8d752c21",
   "metadata": {},
   "outputs": [
    {
     "name": "stdout",
     "output_type": "stream",
     "text": [
      "found \"fox\" in \"the quick brown fox jumps over the lazy dog.\" from 16 to 19 \n"
     ]
    }
   ],
   "source": [
    "#question16\n",
    "import re \n",
    "pattern = 'fox'\n",
    "text = 'the quick brown fox jumps over the lazy dog.'\n",
    "match = re.search(pattern, text)\n",
    "s = match.start()\n",
    "e = match.end()\n",
    "print('found \"%s\" in \"%s\" from %d to %d ' % \\\n",
    "    (match.re.pattern, match.string, s, e))"
   ]
  },
  {
   "cell_type": "code",
   "execution_count": 44,
   "id": "f74be402",
   "metadata": {},
   "outputs": [
    {
     "name": "stdout",
     "output_type": "stream",
     "text": [
      "exercises\n",
      "exercises\n"
     ]
    }
   ],
   "source": [
    "#question17\n",
    "import re \n",
    "text = \"Python exercises,PHP exercise,C# exercises\"\n",
    "pattern = 'exercises'\n",
    "for match in re.findall(pattern, text):\n",
    "    print (\"%s\" %match)"
   ]
  },
  {
   "cell_type": "code",
   "execution_count": 45,
   "id": "e5ede928",
   "metadata": {},
   "outputs": [
    {
     "name": "stdout",
     "output_type": "stream",
     "text": [
      "found \" exercise \" at 7:15\n",
      "found \" exercise \" at 21:29\n",
      "found \" exercise \" at 34:42\n"
     ]
    }
   ],
   "source": [
    "#question18\n",
    "import re \n",
    "text = \"Python exercises,PHP exercises,C# exercises\"\n",
    "pattern = 'exercise'\n",
    "for match in re.finditer (pattern, text):\n",
    "    s= match.start()\n",
    "    e= match.end()\n",
    "    print('found \" %s \" at %d:%d' % (text[s:e],s,e))"
   ]
  },
  {
   "cell_type": "code",
   "execution_count": 49,
   "id": "00832095",
   "metadata": {},
   "outputs": [
    {
     "name": "stdout",
     "output_type": "stream",
     "text": [
      "YYYY-MM-DD format:  1998-06-11\n",
      "DD-MM-YYYY format:  11-06-1998\n"
     ]
    }
   ],
   "source": [
    "#question19\n",
    "import re\n",
    "def change_date_format(dt):\n",
    "        return re.sub(r'(\\d{4})-(\\d{1,2})-(\\d{1,2})', '\\\\3-\\\\2-\\\\1', dt)\n",
    "dt1 = \"1998-06-11\"\n",
    "print(\"YYYY-MM-DD format: \",dt1)\n",
    "print(\"DD-MM-YYYY format: \",change_date_format(dt1))"
   ]
  },
  {
   "cell_type": "code",
   "execution_count": 51,
   "id": "87714be4",
   "metadata": {},
   "outputs": [
    {
     "name": "stdout",
     "output_type": "stream",
     "text": [
      "['01.12', '0132.12', '2.31', '145.8', '3.01', '27.25', '0.25']\n"
     ]
    }
   ],
   "source": [
    "#question20\n",
    "import re\n",
    "\n",
    "def find_decimal_numbers(string):\n",
    " pattern = re.compile(r'\\d+\\.\\d{1,2}')\n",
    " decimal_numbers = re.findall(pattern, string)\n",
    " return decimal_numbers\n",
    "sample_text = \"01.12 0132.123 2.31875 145.8 3.01 27.25 0.25\"\n",
    "output = find_decimal_numbers(sample_text)\n",
    "print(output)"
   ]
  },
  {
   "cell_type": "code",
   "execution_count": 52,
   "id": "0a4cc554",
   "metadata": {},
   "outputs": [
    {
     "name": "stdout",
     "output_type": "stream",
     "text": [
      "50\n",
      "index position: 62\n"
     ]
    }
   ],
   "source": [
    "#question21\n",
    "import re\n",
    "text = 'the following example creates an Arraylist with a capacity of 50 element, four elementare then added to the arraylist is trimmed accordingly.'\n",
    "\n",
    "for m in re.finditer(\"\\d+\",text):\n",
    "    print(m.group(0))\n",
    "    print(\"index position:\", m.start())"
   ]
  },
  {
   "cell_type": "code",
   "execution_count": 53,
   "id": "42f97cb9",
   "metadata": {},
   "outputs": [
    {
     "name": "stdout",
     "output_type": "stream",
     "text": [
      "950\n"
     ]
    }
   ],
   "source": [
    "#question22\n",
    "import re\n",
    "\n",
    "input_string = 'My marks in each semester are: 947, 896, 926, 524, 734, 950, 642'\n",
    "\n",
    "numeric_values = re.findall(r'\\d+',input_string)\n",
    "numeric_values = [int(value) for value in numeric_values]\n",
    "\n",
    "max_value = max(numeric_values)\n",
    "\n",
    "print(max_value)"
   ]
  },
  {
   "cell_type": "code",
   "execution_count": 64,
   "id": "b016464b",
   "metadata": {},
   "outputs": [
    {
     "name": "stdout",
     "output_type": "stream",
     "text": [
      "Regular Expression Is An Important Topoc In Python\n"
     ]
    }
   ],
   "source": [
    "#question23\n",
    "import re\n",
    "def capital_words_spaces(str1):\n",
    " return re.sub(r\"(\\w)([A-Z])\",r\"\\1 \\2\", str1)\n",
    "\n",
    "print (capital_words_spaces(\"RegularExpressionIsAnImportantTopocInPython\"))\n"
   ]
  },
  {
   "cell_type": "code",
   "execution_count": 58,
   "id": "645d2595",
   "metadata": {},
   "outputs": [
    {
     "name": "stdout",
     "output_type": "stream",
     "text": [
      "['Regular', 'Expression', 'Is', 'An', 'Important', 'Topic']\n"
     ]
    }
   ],
   "source": [
    "#question24\n",
    "import re\n",
    "\n",
    "pattern = r'[A-Z][a-z]+'\n",
    "text = \"Regular Expression Is An Important Topic\"\n",
    "\n",
    "matches = re.findall(pattern, text)\n",
    "print(matches)"
   ]
  },
  {
   "cell_type": "code",
   "execution_count": 57,
   "id": "aabbf8bc",
   "metadata": {},
   "outputs": [
    {
     "name": "stdout",
     "output_type": "stream",
     "text": [
      "Hello world\n"
     ]
    }
   ],
   "source": [
    "#question25\n",
    "import re\n",
    "\n",
    "def remove_duplicates(sentence):\n",
    " pattern = r'\\b(\\w+)(\\s+\\1\\b)+'\n",
    " result = re.sub(pattern, r'\\1', sentence)\n",
    " return result\n",
    "sentence = \"Hello Hello world world\"\n",
    "output = remove_duplicates(sentence)\n",
    "print(output)"
   ]
  },
  {
   "cell_type": "code",
   "execution_count": 59,
   "id": "712453d2",
   "metadata": {},
   "outputs": [
    {
     "name": "stdout",
     "output_type": "stream",
     "text": [
      "\n",
      "The string is :\n",
      "Python12345\n",
      "The string end with alphanumeric character\n"
     ]
    }
   ],
   "source": [
    "#question26\n",
    "import re\n",
    "\n",
    "regex_expression = '[a-zA-Z0-9]$'\n",
    "\n",
    "def check_string(my_string):\n",
    "    \n",
    "   if(re.search(regex_expression, my_string)):\n",
    "      print(\"The string end with alphanumeric character\")\n",
    "        \n",
    "   else:\n",
    "      print(\"The string doesnot end with alphanumeric character\")\n",
    "        \n",
    "my_string_1 = \"Python12345\"\n",
    "print(\"\\nThe string is :\")\n",
    "print(my_string_1)\n",
    "check_string(my_string_1)"
   ]
  },
  {
   "cell_type": "code",
   "execution_count": 63,
   "id": "795fb58c",
   "metadata": {},
   "outputs": [
    {
     "name": "stdout",
     "output_type": "stream",
     "text": [
      "['#Doltiwal', '#xyzabc', '#Demonetization']\n"
     ]
    }
   ],
   "source": [
    "#question27\n",
    "import re\n",
    "\n",
    "def extract_hashtags(text):\n",
    "  hashtags = re.findall(r'#\\w+', text)\n",
    "  return hashtags\n",
    "\n",
    "\n",
    "text = 'RT @kapil_kausik: #Doltiwal I mean #xyzabc is \"hurt\" by #Demonetization as the same has rendered USELESS <ed><U+OOAO><U+OOB1><U+OO89>\"acquired funds\" No wo'\n",
    "\n",
    "\n",
    "hashtags = extract_hashtags(text)\n",
    "\n",
    "\n",
    "print(hashtags)"
   ]
  },
  {
   "cell_type": "code",
   "execution_count": 65,
   "id": "e60df5b0",
   "metadata": {},
   "outputs": [
    {
     "name": "stdout",
     "output_type": "stream",
     "text": [
      "@Jags123456 Bharat band on 28??<ed><ed>Those who are protesting #demonetization are all different party leaders\n"
     ]
    }
   ],
   "source": [
    "#question28\n",
    "import re\n",
    "\n",
    "input_text = \"@Jags123456 Bharat band on 28??<ed><U+OOAO><U+OOBD><ed><U+OOB8><U+OO82>Those who are protesting #demonetization are all different party leaders\"\n",
    "\n",
    "pattern = r\"<U\\+\\w{4}>\"\n",
    "output_text = re.sub(pattern, \"\", input_text)\n",
    "\n",
    "print(output_text)"
   ]
  },
  {
   "cell_type": "code",
   "execution_count": null,
   "id": "aac1b142",
   "metadata": {},
   "outputs": [],
   "source": []
  },
  {
   "cell_type": "code",
   "execution_count": 68,
   "id": "8fbf937a",
   "metadata": {},
   "outputs": [
    {
     "name": "stdout",
     "output_type": "stream",
     "text": [
      " following example creates  Arraylist  a capacity   element. 4 element   added   Arraylist   Arraylist  trimmed accordingly\n"
     ]
    }
   ],
   "source": [
    "#question30\n",
    "import re\n",
    "\n",
    "def remove_words(string):\n",
    "  pattern = re.compile(r'\\b\\w{2,4}\\b')\n",
    "  modified_string = re.sub(pattern, '', string)\n",
    "  return modified_string\n",
    "\n",
    "sample_text = \"The following example creates an Arraylist with a capacity of 50 element. 4 element are then added to the Arraylist and the Arraylist is trimmed accordingly\"\n",
    "output = remove_words(sample_text)\n",
    "print(output)"
   ]
  },
  {
   "cell_type": "code",
   "execution_count": null,
   "id": "6ab5352f",
   "metadata": {},
   "outputs": [],
   "source": []
  }
 ],
 "metadata": {
  "kernelspec": {
   "display_name": "Python 3 (ipykernel)",
   "language": "python",
   "name": "python3"
  },
  "language_info": {
   "codemirror_mode": {
    "name": "ipython",
    "version": 3
   },
   "file_extension": ".py",
   "mimetype": "text/x-python",
   "name": "python",
   "nbconvert_exporter": "python",
   "pygments_lexer": "ipython3",
   "version": "3.10.9"
  }
 },
 "nbformat": 4,
 "nbformat_minor": 5
}
